{
  "nbformat": 4,
  "nbformat_minor": 0,
  "metadata": {
    "colab": {
      "name": "weather.ipynb",
      "provenance": [],
      "collapsed_sections": []
    },
    "kernelspec": {
      "name": "python3",
      "display_name": "Python 3"
    },
    "language_info": {
      "name": "python"
    }
  },
  "cells": [
    {
      "cell_type": "code",
      "metadata": {
        "colab": {
          "base_uri": "https://localhost:8080/"
        },
        "id": "wg2wfMY5W6Zl",
        "outputId": "19e4b50a-c65e-4544-ed02-e3e9e4dd90ff"
      },
      "source": [
        "import requests\n",
        "from datetime import datetime\n",
        " \n",
        "api_key = '51a17ca61407806e830796d03d2fcbdb'\n",
        "location = input(\"Enter the city name: \")\n",
        " \n",
        "comp_api_link = \"https://api.openweathermap.org/data/2.5/weather?q=\"+location+\"&appid=\"+api_key\n",
        "api_link = requests.get(comp_api_link)\n",
        "api_data = api_link.json()\n",
        " \n",
        " \n",
        "temp_city = ((api_data['main']['temp']) - 273.15)\n",
        "weather_desc = api_data['weather'][0]['description']\n",
        "hmdt = api_data['main']['humidity']\n",
        "wind_spd = api_data['wind']['speed']\n",
        "date_time = datetime.now().strftime(\"%d %b %Y | %I:%M:%S %p\")\n",
        "file = open(\"results.txt\",\"w\")\n",
        " \n",
        "file.write(\"\\n\")\n",
        "file.write (\"Weather Stats for - {}  || {}\".format(location.upper(), date_time))\n",
        " \n",
        "file.write (\"\\n\")\n",
        " \n",
        "file.write(\"Current temperature is: {:.2f} deg C\".format(temp_city))\n",
        " \n",
        "file.write(\"\\n\")\n",
        " \n",
        "file.write(\"Current weather desc  :\"+ str(weather_desc))\n",
        " \n",
        "file.write(\"\\n\")\n",
        " \n",
        "file.write(\"Current Humidity      :\"+ str(hmdt) + \"%\")\n",
        " \n",
        "file.write(\"\\n\")\n",
        " \n",
        "file.write(\"Current wind speed    :\" + str(wind_spd) + \"kmph\")\n",
        " \n",
        "file.close()"
      ],
      "execution_count": 5,
      "outputs": [
        {
          "output_type": "stream",
          "text": [
            "Enter the city name: paris\n"
          ],
          "name": "stdout"
        }
      ]
    }
  ]
}